{
  "cells": [
    {
      "cell_type": "markdown",
      "id": "a36e41e8",
      "metadata": {
        "id": "a36e41e8"
      },
      "source": [
        "# 1 - NBoW\n",
        "\n",
        "In this series we'll be building a machine learning model to perform sentiment analysis -- a subset of text classification where the task is to detect if a given sentence is positive or negative -- using [PyTorch](https://github.com/pytorch/pytorch) and [torchtext](https://github.com/pytorch/text). The dataset used will be movie reviews from the [IMDb dataset](http://ai.stanford.edu/~amaas/data/sentiment/), which we'll obtain using the [datasets](https://github.com/huggingface/datasets) library.\n"
      ]
    },
    {
      "cell_type": "markdown",
      "id": "1bdce176",
      "metadata": {
        "id": "1bdce176"
      },
      "source": [
        "## Introduction\n",
        "\n",
        "In this first notebook, we'll start very simple with one of the most basic models for _NLP_ (natural language processing): a _NBoW_ (_neural bag-of-words_) model (also known as _continuous bag-of-words_, _CBoW_). The NBoW model are a strong, commonly used, baseline model for NLP tasks. They should be one of the first models you implement when performing sentiment analysis/text classification.\n",
        "\n",
        "![](https://github.com/bentrevett/pytorch-sentiment-analysis/blob/main/assets/nbow_model.png?raw=1)\n",
        "\n",
        "An NBoW model takes in a sequence of $T$ _tokens_, $X=\\{x_1,...,x_T\\} \\in \\mathbb{Z}^T$ and passes each token through an _embedding layer_ to obtain a sequence of _embedding vectors_. The sequence of embedding vectors is just known as an _embedding_, $E=\\{e_1,...,e_T\\} \\in \\mathbb{R}^{T \\times D}$, where $D$ is known as the _embedding dimension_. It then _pools_ the embeddings across the sequence dimension to get $P \\in \\mathbb{R}^D$ and then finally passes $P$ through a linear layer (also known as a fully connected layer), to get a prediction, $\\hat{Y} \\in \\mathbb{R}^C$, where $C$ is the number of classes. We'll explain what a token is, and what each of the layers -- embedding layer, pooling, and linear layer -- do in due course.\n",
        "\n",
        "A note on notation, what does something like $E=\\{e_1,...,e_T\\} \\in \\mathbb{R}^{T \\times D}$ mean? $\\mathbb{R}^{T \\times D}$ means a $T \\times D$ sized tensor full of real numbers, i.e. a `torch.FloatTensor`. $X=\\{x_1,...,x_T\\} \\in \\mathbb{Z}^T$ is a $T$ sized tensor full of integers, i.e. a `torch.LongTensor`.\n"
      ]
    },
    {
      "cell_type": "markdown",
      "id": "388ad599",
      "metadata": {
        "id": "388ad599"
      },
      "source": [
        "## Preparing Data\n",
        "\n",
        "Before we can implement our NBoW model, we first have to perform quite a few steps to get our data ready to use. NLP usually requires quite a lot of data wrangling beforehand, though libraries such as `datasets` and `torchtext` handle most of this for us.\n",
        "\n",
        "The steps to take are:\n",
        "\n",
        "-   importing modules\n",
        "-   loading data\n",
        "-   tokenizing data\n",
        "-   creating data splits\n",
        "-   creating a vocabulary\n",
        "-   numericalizing data\n",
        "-   creating the data loaders\n"
      ]
    },
    {
      "cell_type": "markdown",
      "id": "7b7c4cf4",
      "metadata": {
        "id": "7b7c4cf4"
      },
      "source": [
        "### Importing Modules\n",
        "\n",
        "First, we'll import the required modules.\n",
        "\n",
        "We use the `datasets` module for handling datasets, `matplotlib` for plotting our results, `numpy` for numerical processing, `torch` for tensor computations, `torch.nn` for neural networks, `torch.optim` for neural network optimizers, `torchtext` for text processing, and `tqdm` for measuring progress.\n"
      ]
    },
    {
      "cell_type": "code",
      "execution_count": null,
      "id": "e322bd29",
      "metadata": {
        "id": "e322bd29"
      },
      "outputs": [],
      "source": [
        "import collections\n",
        "\n",
        "import datasets\n",
        "import matplotlib.pyplot as plt\n",
        "import numpy as np\n",
        "import torch\n",
        "import torch.nn as nn\n",
        "import torch.optim as optim\n",
        "import torchtext\n",
        "import tqdm\n",
        "\n",
        "from torchtext.data.utils import get_tokenizer\n",
        "from torchtext.vocab import build_vocab_from_iterator"
      ]
    },
    {
      "cell_type": "markdown",
      "id": "a5478fc3",
      "metadata": {
        "id": "a5478fc3"
      },
      "source": [
        "We'll also make sure to set the random seeds for `torch` and `numpy`. This is to ensure this notebook is reproducable, i.e. we get the same results each time we run it.\n",
        "\n",
        "It is usually good practice to run your experiments multiple times with different random seeds -- both to measure the variance of your model and also to avoid having results only calculated with either \"good\" or \"bad\" seeds, i.e. being very lucky or unlucky with the randomness in the training process.\n"
      ]
    },
    {
      "cell_type": "code",
      "execution_count": null,
      "id": "fcc98ce9",
      "metadata": {
        "id": "fcc98ce9"
      },
      "outputs": [],
      "source": [
        "seed = 1234\n",
        "\n",
        "np.random.seed(seed)\n",
        "torch.manual_seed(seed)\n",
        "torch.cuda.manual_seed(seed)\n",
        "torch.backends.cudnn.deterministic = True"
      ]
    },
    {
      "cell_type": "markdown",
      "id": "55b1eb74",
      "metadata": {
        "id": "55b1eb74"
      },
      "source": [
        "### Loading the Dataset\n",
        "\n",
        "Next, we'll load our dataset using the `datasets` library. The first argument is the name of the dataset and the `split` argument chooses which _splits_ of the data we want.\n",
        "\n",
        "Datasets usually come in two or more _splits_, non-overlapping examples from the data, most commonly a _train split_ -- which we train our model on -- and a _test split_ -- which we evaluate our trained model on. There's also a _validation split_, which we'll talk more about later. The train, test and validation split are also commonly called the train, test and validation sets -- we'll use split and set interchangeably\n",
        "in these tutorials -- and the dataset usually refers to all three of the sets combined. The IMDb dataset actually comes with a third split, called _unsupervised_, which contains a bunch of examples without labels. We don't want these so we don't include them in our `split` argument. Note that if we didn't pass an argument to `split` then it would load all available splits of the data.\n",
        "\n",
        "How do we know that we have to use \"imdb\" for the IMDb dataset and that there's an \"unsupervised\" split? The `datasets` library has a great website used to browse the available datasets, see: https://huggingface.co/datasets/. By navigating to the [IMDb dataset page](https://huggingface.co/datasets/imdb) we can see more information specifically about the IMDb dataset.\n",
        "\n",
        "The output received when loading the dataset tells us that it is using a locally cached version instead of downloading the dataset from online.\n"
      ]
    },
    {
      "cell_type": "code",
      "execution_count": null,
      "id": "798f5387",
      "metadata": {
        "id": "798f5387"
      },
      "outputs": [],
      "source": [
        "train_data, test_data = datasets.load_dataset(\"imdb\", split=[\"train\", \"test\"])"
      ]
    },
    {
      "cell_type": "markdown",
      "id": "93721296",
      "metadata": {
        "id": "93721296"
      },
      "source": [
        "We can print out the splits which shows us the _features_ and _num_rows_ of the dataset. num*rows are the number of examples in split, as we can see, there are 25,000 examples in each. Each example in a dataset provided by the `datasets` library is a dictionary, and the features are the keys which appear in every one of those dictionaries/examples. So, each example in the IMDb dataset has a \\_text* and a _label_ key.\n"
      ]
    },
    {
      "cell_type": "code",
      "execution_count": null,
      "id": "42338609",
      "metadata": {
        "id": "42338609",
        "outputId": "b49bbacf-4a7b-4a02-9d3f-785126ea58de"
      },
      "outputs": [],
      "source": [
        "train_data, test_data"
      ]
    },
    {
      "cell_type": "markdown",
      "id": "8ec70556",
      "metadata": {
        "id": "8ec70556"
      },
      "source": [
        "We can check the `features` attribute of a split to get more information about the features. We can see that _text_ is a `Value` of `dtype=string` -- in other words, it's a string -- and that _label_ is a `ClassLabel`. A `ClassLabel` means the feature is an integer representation of which class the example belongs to. `num_classes=2` means that our labels are one of two values, 0 or 1, and `names=['neg', 'pos']` gives us the human-readable versions of those values. Thus, a label of 0 means the example is a negative review and a label of 1 means the example is a positive review.\n"
      ]
    },
    {
      "cell_type": "code",
      "execution_count": null,
      "id": "58f5cc56",
      "metadata": {
        "id": "58f5cc56",
        "outputId": "4fe50982-705a-47d9-d8e7-ecd4a608652e"
      },
      "outputs": [],
      "source": [
        "train_data.features"
      ]
    },
    {
      "cell_type": "markdown",
      "id": "84271369",
      "metadata": {
        "id": "84271369"
      },
      "source": [
        "We can look at an example by indexing into the train set. As we can see, the text is quite noisy and also rambles on quite a bit.\n"
      ]
    },
    {
      "cell_type": "code",
      "execution_count": null,
      "id": "25a6e8cb",
      "metadata": {
        "id": "25a6e8cb",
        "outputId": "e5226cf2-0035-44c0-9b7f-3f2523913429"
      },
      "outputs": [],
      "source": [
        "train_data[0]"
      ]
    },
    {
      "cell_type": "markdown",
      "id": "f8536207",
      "metadata": {
        "id": "f8536207"
      },
      "source": [
        "### Tokenization\n",
        "\n",
        "One of the first things we need to do to our data is _tokenize_ it. Machine learning models aren't designed to handle strings, they're design to handle numbers. So what we need to do is break down our string into individual _tokens_, and then convert these tokens to numbers. We'll get to the conversion later, but first we'll look at _tokenization_.\n",
        "\n",
        "Tokenization involves using a _tokenizer_ to process the strings in our dataset. A tokenizer is a function that goes from a string to a list of strings. There are many types of tokenizers available, but we're going to use a relatively simple one provided by `torchtext` called the `basic_english` tokenizer. We load our tokenizer as such:\n"
      ]
    },
    {
      "cell_type": "code",
      "execution_count": null,
      "id": "3017c0ab",
      "metadata": {
        "id": "3017c0ab"
      },
      "outputs": [],
      "source": [
        "tokenizer = get_tokenizer(\"basic_english\")"
      ]
    },
    {
      "cell_type": "markdown",
      "id": "4db58859",
      "metadata": {
        "id": "4db58859"
      },
      "source": [
        "We can use the tokenizer by calling it on a string.\n",
        "\n",
        "Notice it creates a token by splitting the word on spaces, separating punctuation into its own token, and also lowercasing every word.\n",
        "\n",
        "The `get_tokenizer` function also supports other tokenizers, such as ones provided by [spaCy](https://spacy.io/) and [nltk](https://www.nltk.org/).\n"
      ]
    },
    {
      "cell_type": "code",
      "execution_count": null,
      "id": "2d0de969",
      "metadata": {
        "id": "2d0de969",
        "outputId": "3dbd7905-b857-4ff1-b201-d485751ece06"
      },
      "outputs": [],
      "source": [
        "tokenizer(\"Hello world! How are you doing today? I'm doing fantastic!\")"
      ]
    },
    {
      "cell_type": "markdown",
      "id": "593711b9",
      "metadata": {
        "id": "593711b9"
      },
      "source": [
        "Now we have our tokenizer defined, we want to actually tokenize our data.\n",
        "\n",
        "Each dataset provided by the `datasets` library is an instance of a `Dataset` class. We can see all the methods in a `Dataset` [here](https://huggingface.co/docs/datasets/package_reference/main_classes.html#dataset), but the main one we are interested in is [`map`](https://huggingface.co/docs/datasets/package_reference/main_classes.html#datasets.Dataset.map). By using `map` we can apply a function to every example in the dataset and either update the example or create a new feature.\n",
        "\n",
        "We define the `tokenize_example` function below which takes in an `example`, a `tokenizer` and a `max_length` argument, tokenizes the text in the example, given by `example['text']`, trims the tokens to a maximum length and then returns a dictionary with the new feature name and feature value for that example. Note that the first argument to a function which we are going to `map` must always be the example dictionary, and it must always return a dictionary where the keys are the feature names and the values are the feature values to be added to this example.\n",
        "\n",
        "We're trimming the tokens to a maximum length here as some examples are unnecessarily long and we can predict sentiment pretty well just using the first couple of hundred tokens -- though this might not be true for you if you're using a different dataset!\n"
      ]
    },
    {
      "cell_type": "code",
      "execution_count": null,
      "id": "876ad3b9",
      "metadata": {
        "id": "876ad3b9"
      },
      "outputs": [],
      "source": [
        "def tokenize_example(example, tokenizer, max_length):\n",
        "    tokens = tokenizer(example[\"text\"])[:max_length]\n",
        "    return {\"tokens\": tokens}"
      ]
    },
    {
      "cell_type": "markdown",
      "id": "35129a1b",
      "metadata": {
        "id": "35129a1b"
      },
      "source": [
        "We apply the `tokenize_example` function below, on both the train and test sets. Any arguments to the function -- that aren't the example -- need to be passed as the `fn_kwargs` dictionary, with the keys being the argument names and the values the value passed to that argument.\n",
        "\n",
        "Operations on a `Dataset` are **not** performed in-place. You should always return the result into a new variable.\n",
        "\n",
        "Note the warnings showing that as I have performed this `map` before, the results are cached and are thus loaded from the cache instead of being calculated again.\n"
      ]
    },
    {
      "cell_type": "code",
      "execution_count": null,
      "id": "5e295030",
      "metadata": {
        "id": "5e295030"
      },
      "outputs": [],
      "source": [
        "max_length = 256\n",
        "\n",
        "train_data = train_data.map(\n",
        "    tokenize_example, fn_kwargs={\n",
        "        \"tokenizer\": tokenizer, \"max_length\": max_length}\n",
        ")\n",
        "test_data = test_data.map(\n",
        "    tokenize_example, fn_kwargs={\n",
        "        \"tokenizer\": tokenizer, \"max_length\": max_length}\n",
        ")"
      ]
    },
    {
      "cell_type": "markdown",
      "id": "a61b38c0",
      "metadata": {
        "id": "a61b38c0"
      },
      "source": [
        "We can now see that our `train_data` has a _tokens_ feature -- as \"tokens\" was a key in the dictionary returned by the function we used for the `map`.\n"
      ]
    },
    {
      "cell_type": "code",
      "execution_count": null,
      "id": "f647bdf9",
      "metadata": {
        "id": "f647bdf9",
        "outputId": "21f201c9-4973-4626-b045-d3e5dc6808d8"
      },
      "outputs": [],
      "source": [
        "train_data"
      ]
    },
    {
      "cell_type": "markdown",
      "id": "db3443a0",
      "metadata": {
        "id": "db3443a0"
      },
      "source": [
        "By looking at the `features` attribute we can see it has automatically added the information about the tokens feature -- each is a sequence (a list) of strings. A `length=-1` means that all of our token sequences are not the same length.\n"
      ]
    },
    {
      "cell_type": "code",
      "execution_count": null,
      "id": "1605d52b",
      "metadata": {
        "id": "1605d52b",
        "outputId": "467572a3-763f-4d2b-abc6-28cff6f82ac7"
      },
      "outputs": [],
      "source": [
        "train_data.features"
      ]
    },
    {
      "cell_type": "markdown",
      "id": "1735d91a",
      "metadata": {
        "id": "1735d91a"
      },
      "source": [
        "We can check the first example in our train set to see the result of the tokenization:\n"
      ]
    },
    {
      "cell_type": "code",
      "execution_count": null,
      "id": "2f3de3b9",
      "metadata": {
        "id": "2f3de3b9",
        "outputId": "4e8b6140-03e1-4268-8587-4d986a37ce4c"
      },
      "outputs": [],
      "source": [
        "train_data[0][\"tokens\"][:25]"
      ]
    },
    {
      "cell_type": "markdown",
      "id": "04d4ee14",
      "metadata": {
        "id": "04d4ee14"
      },
      "source": [
        "### Creating Validation Data\n",
        "\n",
        "Next up, we'll create a _validation set_ from our data. This is similar to our test set in that we do not train our model on it, we only evaluate our model on it.\n",
        "\n",
        "Why have both a validation set and a test set? Your test set respresents the real world data that you'd see if you actually deployed this model. You won't be able to see what data your model will be fed once deployed, and your test set is supposed to reflect that. Every time we tune our model hyperparameters or training set-up to make it do a bit better on the test set, we are leak information from the test set into the training process. If we do this too often then we begin to overfit on the test set. Hence, we need some data which can act as a \"proxy\" test set which we can look at more frequently in order to evaluate how well our model actually does on unseen data -- this is the validation set.\n",
        "\n",
        "We can split a `Dataset` using the `train_test_split` method which splits a dataset into two, creating a `DatasetDict` for each split, one called `train` and another called `test` -- a bit confusing because these are our train and validation sets, not the test. We use `test_size` to set the portion of the data used for the validation set -- 0.25 means we use 25% of the training set -- and the examples are chosen randomly.\n"
      ]
    },
    {
      "cell_type": "code",
      "execution_count": null,
      "id": "15e48bfb",
      "metadata": {
        "id": "15e48bfb"
      },
      "outputs": [],
      "source": [
        "test_size = 0.25\n",
        "\n",
        "train_valid_data = train_data.train_test_split(test_size=test_size)\n",
        "train_data = train_valid_data[\"train\"]\n",
        "valid_data = train_valid_data[\"test\"]"
      ]
    },
    {
      "cell_type": "markdown",
      "id": "870c829b",
      "metadata": {
        "id": "870c829b"
      },
      "source": [
        "By showing the lengths of each split within our dataset, we can see the 25,000 training examples have now been split into 18,750 training examples and 6,250 validation examples, with the original 25,000 test examples remaining untouched.\n"
      ]
    },
    {
      "cell_type": "code",
      "execution_count": null,
      "id": "c227e4fc",
      "metadata": {
        "id": "c227e4fc",
        "outputId": "5d9a9aa6-2421-4a7f-c21d-af58832b3633"
      },
      "outputs": [],
      "source": [
        "len(train_data), len(valid_data), len(test_data)"
      ]
    },
    {
      "cell_type": "markdown",
      "id": "7078d481",
      "metadata": {
        "id": "7078d481"
      },
      "source": [
        "### Creating a Vocabulary\n",
        "\n",
        "Next, we have to build a _vocabulary_. This is look-up table where every unique token in your dataset has a corresponding _index_ (an integer).\n",
        "\n",
        "We do this as machine learning models cannot operate on strings, only numerical vaslues. Each _index_ is used to construct a _one-hot_ vector for each token. A one-hot vector is a vector where all the elements are 0, except one, which is 1, and the dimensionality is the total number of unique tokens in your vocabulary, commonly denoted by $V$.\n",
        "\n",
        "For example:\n",
        "\n",
        "![](https://github.com/bentrevett/pytorch-sentiment-analysis/blob/main/assets/vocabulary.png?raw=1)\n",
        "\n",
        "One issue with creating a vocabulary using every single word in the dataset is that there are usually a considerable amount of unique tokens. One way to combat this is to either only construct the vocabulary only using the most commonly appearing tokens, or to only use tokens which appear a minimum amount of times in the dataset. In this notebook, we do the latter, keeping on the tokens which appear 5 times.\n",
        "\n",
        "What happens to tokens which appear less than 5 times? We replace them with a special _unknown_ token, denoted by `<unk>`. For example, if the sentence \"This film is great and I love it\", but the word \"love\" was not in the vocabulary, it would become: \"This film is great and I \\<unk\\> it\".\n",
        "\n",
        "We use the `build_vocab_from_iterator` function from `torchtext.vocab` to create our vocabulary, specifying the `min_freq` (the minimum amount of times a token should appear to be added to the vocabulary) and `special_tokens` (tokens which should be appended to the start of the vocabulary, even if they don't appear `min_freq` times in the dataset).\n",
        "\n",
        "The first special token is our unknown token, the other, `<pad>` is a special token we'll use for padding sentences.\n",
        "\n",
        "When we feed sentences into our model, we pass a _batch_ of sentences, i.e. more than one, at the same time. Passing a batch of sentences is preferred to passing sentences one at a time as it allows our model to perform computation on all sentences within a batch in paralle, thus speeding up the time taken to train and evaluate our model. All sentences within a batch need to be the same length (in terms of the number of tokens). Thus, to ensure each sentence is the same length, any shorter than the longest sentence need to have padding tokens appended to the end of them.\n",
        "\n",
        "For an example batch of two sentences of length four and three tokens:\n",
        "\n",
        "![](https://github.com/bentrevett/pytorch-sentiment-analysis/blob/main/assets/padding.png?raw=1)\n",
        "\n",
        "As we can see, the second sentence has been padded with a single `<pad>` token.\n"
      ]
    },
    {
      "cell_type": "code",
      "execution_count": null,
      "id": "4865e94a",
      "metadata": {
        "id": "4865e94a"
      },
      "outputs": [],
      "source": [
        "min_freq = 5\n",
        "special_tokens = [\"<unk>\", \"<pad>\"]\n",
        "\n",
        "vocab = build_vocab_from_iterator(\n",
        "    train_data[\"tokens\"],\n",
        "    min_freq=min_freq,\n",
        "    specials=special_tokens,\n",
        ")"
      ]
    },
    {
      "cell_type": "markdown",
      "id": "c9d546eb",
      "metadata": {
        "id": "c9d546eb"
      },
      "source": [
        "Why is the vocabulary built from only the training data? When testing any machine learning system, we want to avoid any form of data leakage but not using any information from the test data -- this includes the frequency of tokens within the test data. As the validation set is supposed to reflect the test set as much as possible, we also do not use it to build the vocabulary. A common mistake is building the vocabulary using validation and test data -- do not do this!\n",
        "\n",
        "Now we have our vocabulary, we can first examine it by checking its length -- the number of tokens in the vocabulary.\n"
      ]
    },
    {
      "cell_type": "code",
      "execution_count": null,
      "id": "123ceb33",
      "metadata": {
        "id": "123ceb33",
        "outputId": "762b97f5-3185-49c0-9890-af2f8c8f5c48"
      },
      "outputs": [],
      "source": [
        "len(vocab)"
      ]
    },
    {
      "cell_type": "markdown",
      "id": "549dd0df",
      "metadata": {
        "id": "549dd0df"
      },
      "source": [
        "We can view the tokens in our vocabulary using the `get_itos` method, which returns a list of strings (tokens), and the index of each token in the list is the index of the token in our vocabulary.\n"
      ]
    },
    {
      "cell_type": "code",
      "execution_count": null,
      "id": "d4ec89de",
      "metadata": {
        "id": "d4ec89de",
        "outputId": "4a22c688-4475-47c5-e2eb-79b9c44d87c9"
      },
      "outputs": [],
      "source": [
        "vocab.get_itos()[:10]"
      ]
    },
    {
      "cell_type": "markdown",
      "id": "294d83bc",
      "metadata": {
        "id": "294d83bc"
      },
      "source": [
        "We can get the index of a token by accessing it like a dictionary.\n"
      ]
    },
    {
      "cell_type": "code",
      "execution_count": null,
      "id": "e3cabb50",
      "metadata": {
        "id": "e3cabb50",
        "outputId": "73ded8d7-278e-43c5-d231-16bdf38903aa"
      },
      "outputs": [],
      "source": [
        "vocab[\"and\"]"
      ]
    },
    {
      "cell_type": "markdown",
      "id": "dcf15880",
      "metadata": {
        "id": "dcf15880"
      },
      "source": [
        "We store the indices of the unknown and padding tokens (zero and one, respectively) in variables, as we'll use these further on in this notebook.\n"
      ]
    },
    {
      "cell_type": "code",
      "execution_count": null,
      "id": "29ac49c8",
      "metadata": {
        "id": "29ac49c8"
      },
      "outputs": [],
      "source": [
        "unk_index = vocab[\"<unk>\"]\n",
        "pad_index = vocab[\"<pad>\"]"
      ]
    },
    {
      "cell_type": "markdown",
      "id": "351f4677",
      "metadata": {
        "id": "351f4677"
      },
      "source": [
        "We can check if a token is in our vocabulary using the `in` operator.\n"
      ]
    },
    {
      "cell_type": "code",
      "execution_count": null,
      "id": "201b5383",
      "metadata": {
        "id": "201b5383",
        "outputId": "a2a411ac-16d1-46fe-ebe5-65d7d3a5562e"
      },
      "outputs": [],
      "source": [
        "\"some_token\" in vocab"
      ]
    },
    {
      "cell_type": "markdown",
      "id": "88cac27f",
      "metadata": {
        "id": "88cac27f"
      },
      "source": [
        "By default, a vocabulary created by `torchtext` will throw an error if you attempt to obtain the index of a token which is not in the vocabulary, i.e. `vocab[\"some_token\"]` will throw an error.\n",
        "\n",
        "We need to explicity tell the vocabulary which token to return if we pass a token not in the vocabulary. We do this using the `set_default_index` method, passing in the index we wish it to return. Here, we pass the index of the unknown token.\n"
      ]
    },
    {
      "cell_type": "code",
      "execution_count": null,
      "id": "7a951ea0",
      "metadata": {
        "id": "7a951ea0"
      },
      "outputs": [],
      "source": [
        "vocab.set_default_index(unk_index)"
      ]
    },
    {
      "cell_type": "markdown",
      "id": "82e90674",
      "metadata": {
        "id": "82e90674"
      },
      "source": [
        "Now, when trying to get the index of a token that is not in the vocabulary, instead of throwing an error we get zero, the value of `unk_index`, our unknown token, `<unk>`.\n"
      ]
    },
    {
      "cell_type": "code",
      "execution_count": null,
      "id": "407fe05d",
      "metadata": {
        "id": "407fe05d",
        "outputId": "d63aa57f-eaef-41ea-df34-c25bf455376d"
      },
      "outputs": [],
      "source": [
        "vocab[\"some_token\"]"
      ]
    },
    {
      "cell_type": "markdown",
      "id": "72a61f1e",
      "metadata": {
        "id": "72a61f1e"
      },
      "source": [
        "To look-up a list of tokens, we can use the vocabulary's `lookup_indices` method.\n"
      ]
    },
    {
      "cell_type": "code",
      "execution_count": null,
      "id": "cbef1d61",
      "metadata": {
        "id": "cbef1d61",
        "outputId": "239a84a2-2aa8-417f-f7ae-2819076fba4d"
      },
      "outputs": [],
      "source": [
        "vocab.lookup_indices([\"hello\", \"world\", \"some_token\", \"<pad>\"])"
      ]
    },
    {
      "cell_type": "markdown",
      "id": "f31fcd7c",
      "metadata": {
        "id": "f31fcd7c"
      },
      "source": [
        "### Numericalizing Data\n",
        "\n",
        "Now we have our vocabulary, we can numericalize our data. This involves converting the tokens within our dataset into indices. Similar to how we tokenized our data using the `Dataset.map` method, we'll define a function that takes an example and our vocabulary, gets the index for each token in each example and then creates an `ids` field which containes the numericalized tokens.\n"
      ]
    },
    {
      "cell_type": "code",
      "execution_count": null,
      "id": "76518d11",
      "metadata": {
        "id": "76518d11"
      },
      "outputs": [],
      "source": [
        "def numericalize_example(example, vocab):\n",
        "    ids = vocab.lookup_indices(example[\"tokens\"])\n",
        "    return {\"ids\": ids}"
      ]
    },
    {
      "cell_type": "markdown",
      "id": "5ddbffcc",
      "metadata": {
        "id": "5ddbffcc"
      },
      "source": [
        "We then apply this function to all examples in the training, validation and testing datasets.\n"
      ]
    },
    {
      "cell_type": "code",
      "execution_count": null,
      "id": "dacaeaef",
      "metadata": {
        "id": "dacaeaef"
      },
      "outputs": [],
      "source": [
        "train_data = train_data.map(numericalize_example, fn_kwargs={\"vocab\": vocab})\n",
        "valid_data = valid_data.map(numericalize_example, fn_kwargs={\"vocab\": vocab})\n",
        "test_data = test_data.map(numericalize_example, fn_kwargs={\"vocab\": vocab})"
      ]
    },
    {
      "cell_type": "markdown",
      "id": "b1442c16",
      "metadata": {
        "id": "b1442c16"
      },
      "source": [
        "Checking an example, we can see that the `id` field now consists of the indexes of the tokens from that example.\n"
      ]
    },
    {
      "cell_type": "code",
      "execution_count": null,
      "id": "a9ea2af1",
      "metadata": {
        "id": "a9ea2af1",
        "outputId": "77d31369-85f0-443b-bc80-508e637bedc2"
      },
      "outputs": [],
      "source": [
        "train_data[0][\"tokens\"][:10]"
      ]
    },
    {
      "cell_type": "code",
      "execution_count": null,
      "id": "eaaa9421",
      "metadata": {
        "id": "eaaa9421",
        "outputId": "6ced18b8-ca04-4e2c-9828-7313f0b48e79"
      },
      "outputs": [],
      "source": [
        "vocab.lookup_indices(train_data[0][\"tokens\"][:10])"
      ]
    },
    {
      "cell_type": "code",
      "execution_count": null,
      "id": "700f096d",
      "metadata": {
        "id": "700f096d",
        "outputId": "f8bf7cb3-2150-409d-f3cb-0578968b07fa"
      },
      "outputs": [],
      "source": [
        "train_data[0][\"ids\"][:10]"
      ]
    },
    {
      "cell_type": "markdown",
      "id": "bc95646b",
      "metadata": {
        "id": "bc95646b"
      },
      "source": [
        "The final step of numericalization is transforming the `ids` and `label` from integers into PyTorch tensors, which we do using the `with_format` method.\n",
        "\n",
        "We do this because our PyTorch models work with tensors, and not integers.\n"
      ]
    },
    {
      "cell_type": "code",
      "execution_count": null,
      "id": "678d0397",
      "metadata": {
        "id": "678d0397"
      },
      "outputs": [],
      "source": [
        "train_data = train_data.with_format(type=\"torch\", columns=[\"ids\", \"label\"])\n",
        "valid_data = valid_data.with_format(type=\"torch\", columns=[\"ids\", \"label\"])\n",
        "test_data = test_data.with_format(type=\"torch\", columns=[\"ids\", \"label\"])"
      ]
    },
    {
      "cell_type": "code",
      "execution_count": null,
      "id": "221c3e2e",
      "metadata": {
        "id": "221c3e2e",
        "outputId": "1d308c49-90d5-4def-ee20-be5094ea5af7"
      },
      "outputs": [],
      "source": [
        "train_data[0][\"label\"]"
      ]
    },
    {
      "cell_type": "code",
      "execution_count": null,
      "id": "c9d4ec10",
      "metadata": {
        "id": "c9d4ec10",
        "outputId": "fe49e192-0655-4e89-b093-9b509a9cbd9d"
      },
      "outputs": [],
      "source": [
        "train_data[0][\"ids\"][:10]"
      ]
    },
    {
      "cell_type": "markdown",
      "id": "4829fd5f",
      "metadata": {
        "id": "4829fd5f"
      },
      "source": [
        "One thing to note is that when using `with_format`, all the columns not specified (`\"tokens\"` and `\"text\"`) are removed from the example.\n"
      ]
    },
    {
      "cell_type": "code",
      "execution_count": null,
      "id": "90f7a79a",
      "metadata": {
        "id": "90f7a79a",
        "outputId": "7e4054f1-6e04-47db-9af6-1e0aa7f09e5b"
      },
      "outputs": [],
      "source": [
        "train_data[0].keys()"
      ]
    },
    {
      "cell_type": "markdown",
      "id": "39c16016",
      "metadata": {
        "id": "39c16016"
      },
      "source": [
        "Removing the \"tokens\" field is fine, as if we wanted to retrieve the human-readable tokens again we can simply convert the tensor into a Python list of integers and then use the vocabulary's `lookup_tokens` method.\n"
      ]
    },
    {
      "cell_type": "code",
      "execution_count": null,
      "id": "4228c9ac",
      "metadata": {
        "id": "4228c9ac",
        "outputId": "f54f70b5-5da1-4c07-afc9-887c15ad63de"
      },
      "outputs": [],
      "source": [
        "vocab.lookup_tokens(train_data[0][\"ids\"][:10].tolist())"
      ]
    },
    {
      "cell_type": "markdown",
      "id": "1f56d82c",
      "metadata": {
        "id": "1f56d82c"
      },
      "source": [
        "### Creating Data Loaders\n",
        "\n",
        "The final step of preparing the data is creating the data loaders. We can iterate over a data loader to retrieve batches of examples. This is also where we will perform any padding that is necessary.\n",
        "\n",
        "We first need to define a function to _collate_ a batch, consisting of a list of examples, into what we want our data loader to output.\n",
        "\n",
        "Here, our desired output from the data loader is a dictionary with keys of `\"ids\"` and `\"label\"`.\n",
        "\n",
        "The value of `batch[\"ids\"]` should be a tensor of shape `[batch size, length]`, where `length` is the length of the longest sentence (in terms of tokens) within the batch, and all sentences shorter than this should be padded to that length.\n",
        "\n",
        "The value of `batch[\"label\"]` should be a tensor of shape `[batch size]` consisting of the label for each sentence in the batch.\n",
        "\n",
        "We define a function, `get_collate_fn`, which is passed the pad token index and returns the actual collate function. Within the actual collate function, `collate_fn`, we get a list of `\"ids\"` tensors for each example in the batch, and then use the `pad_sequence` function, which converts the list of tensors into the desired `[batch size, length]` shaped tensor and performs padding using the specified `pad_index`. By default, `pad_sequence` will return a `[length, batch size]` shaped tensor, but by setting `batch_first=True`, these two dimensions are switched. We get a list of `\"label\"` tensors and convert the list of tensors into a single `[batch size]` shaped tensor.\n"
      ]
    },
    {
      "cell_type": "code",
      "execution_count": null,
      "id": "d39cf1e1",
      "metadata": {
        "id": "d39cf1e1"
      },
      "outputs": [],
      "source": [
        "def get_collate_fn(pad_index):\n",
        "    def collate_fn(batch):\n",
        "        batch_ids = [i[\"ids\"] for i in batch]\n",
        "        batch_ids = nn.utils.rnn.pad_sequence(\n",
        "            batch_ids, padding_value=pad_index, batch_first=True\n",
        "        )\n",
        "        batch_label = [i[\"label\"] for i in batch]\n",
        "        batch_label = torch.stack(batch_label)\n",
        "        batch = {\"ids\": batch_ids, \"label\": batch_label}\n",
        "        return batch\n",
        "\n",
        "    return collate_fn"
      ]
    },
    {
      "cell_type": "markdown",
      "id": "bdc449c7",
      "metadata": {
        "id": "bdc449c7"
      },
      "source": [
        "Next, we define a function which returns our actual data loader. It takes in a dataset, desired batch size (the number of sentences we want in a batch), our padding token index, and if the dataset should be shuffled.\n"
      ]
    },
    {
      "cell_type": "code",
      "execution_count": null,
      "id": "8c88f93f",
      "metadata": {
        "id": "8c88f93f"
      },
      "outputs": [],
      "source": [
        "def get_data_loader(dataset, batch_size, pad_index, shuffle=False):\n",
        "    collate_fn = get_collate_fn(pad_index)\n",
        "    data_loader = torch.utils.data.DataLoader(\n",
        "        dataset=dataset,\n",
        "        batch_size=batch_size,\n",
        "        collate_fn=collate_fn,\n",
        "        shuffle=shuffle,\n",
        "    )\n",
        "    return data_loader"
      ]
    },
    {
      "cell_type": "markdown",
      "id": "1677e78a",
      "metadata": {
        "id": "1677e78a"
      },
      "source": [
        "Finally, we get the data loaders for the training, validation and test data.\n",
        "\n",
        "We set the batch size equal to 512. Our batch size should be set as high as we can, as larger batches means more parallel computation, less compute time, and thus faster training and evaluation.\n",
        "\n",
        "Only the training data loader needs to be shuffled, as it's the only one used to actually tune the parameters within the model, and your training data should always be shuffled.\n"
      ]
    },
    {
      "cell_type": "code",
      "execution_count": null,
      "id": "d3098a96",
      "metadata": {
        "id": "d3098a96"
      },
      "outputs": [],
      "source": [
        "batch_size = 512\n",
        "\n",
        "train_data_loader = get_data_loader(\n",
        "    train_data, batch_size, pad_index, shuffle=True)\n",
        "valid_data_loader = get_data_loader(valid_data, batch_size, pad_index)\n",
        "test_data_loader = get_data_loader(test_data, batch_size, pad_index)"
      ]
    },
    {
      "cell_type": "markdown",
      "id": "5c6245d0",
      "metadata": {
        "id": "5c6245d0"
      },
      "source": [
        "## Building the Model\n"
      ]
    },
    {
      "cell_type": "code",
      "execution_count": null,
      "id": "081f04a6",
      "metadata": {
        "id": "081f04a6"
      },
      "outputs": [],
      "source": [
        "class NBoW(nn.Module):\n",
        "    def __init__(self, vocab_size, embedding_dim, output_dim, pad_index):\n",
        "        super().__init__()\n",
        "        self.embedding = nn.Embedding(\n",
        "            vocab_size, embedding_dim, padding_idx=pad_index)\n",
        "        self.fc = nn.Linear(embedding_dim, output_dim)\n",
        "\n",
        "    def forward(self, ids):\n",
        "        # ids = [batch size, seq len]\n",
        "        embedded = self.embedding(ids)\n",
        "        # embedded = [batch size, seq len, embedding dim]\n",
        "        pooled = embedded.mean(dim=1)\n",
        "        # pooled = [batch size, embedding dim]\n",
        "        prediction = self.fc(pooled)\n",
        "        # prediction = [batch size, output dim]\n",
        "        return prediction"
      ]
    },
    {
      "cell_type": "code",
      "execution_count": null,
      "id": "97897898",
      "metadata": {
        "id": "97897898"
      },
      "outputs": [],
      "source": [
        "vocab_size = len(vocab)\n",
        "embedding_dim = 300\n",
        "output_dim = len(train_data.unique(\"label\"))\n",
        "\n",
        "model = NBoW(vocab_size, embedding_dim, output_dim, pad_index)"
      ]
    },
    {
      "cell_type": "code",
      "execution_count": null,
      "id": "4acc5118",
      "metadata": {
        "id": "4acc5118",
        "outputId": "005230e9-0aa9-4d5f-d855-b44817969b3b"
      },
      "outputs": [],
      "source": [
        "def count_parameters(model):\n",
        "    return sum(p.numel() for p in model.parameters() if p.requires_grad)\n",
        "\n",
        "\n",
        "print(f\"The model has {count_parameters(model):,} trainable parameters\")"
      ]
    },
    {
      "cell_type": "code",
      "execution_count": null,
      "id": "866e0b64",
      "metadata": {
        "id": "866e0b64"
      },
      "outputs": [],
      "source": [
        "vectors = torchtext.vocab.GloVe()"
      ]
    },
    {
      "cell_type": "code",
      "execution_count": null,
      "id": "ead7be53",
      "metadata": {
        "id": "ead7be53"
      },
      "outputs": [],
      "source": [
        "hello_vector = vectors.get_vecs_by_tokens(\"hello\")"
      ]
    },
    {
      "cell_type": "code",
      "execution_count": null,
      "id": "1a64ead7",
      "metadata": {
        "id": "1a64ead7",
        "outputId": "b22c99ba-e380-4f1c-aa49-88ec80dfb273"
      },
      "outputs": [],
      "source": [
        "hello_vector.shape"
      ]
    },
    {
      "cell_type": "code",
      "execution_count": null,
      "id": "7ecc5d88",
      "metadata": {
        "id": "7ecc5d88",
        "outputId": "ad793e07-51fc-4558-f0d0-f37b1d808dd2"
      },
      "outputs": [],
      "source": [
        "hello_vector[:32]"
      ]
    },
    {
      "cell_type": "code",
      "execution_count": null,
      "id": "e8540b4b",
      "metadata": {
        "id": "e8540b4b"
      },
      "outputs": [],
      "source": [
        "pretrained_embedding = vectors.get_vecs_by_tokens(vocab.get_itos())"
      ]
    },
    {
      "cell_type": "code",
      "execution_count": null,
      "id": "9d31228e",
      "metadata": {
        "id": "9d31228e",
        "outputId": "29e54cda-9a66-4ce0-d494-0a1505e57dab"
      },
      "outputs": [],
      "source": [
        "pretrained_embedding.shape"
      ]
    },
    {
      "cell_type": "code",
      "execution_count": null,
      "id": "3a6f4173",
      "metadata": {
        "id": "3a6f4173",
        "outputId": "8b9d87ca-2c8b-41e1-ebb1-701a2f75bb0d"
      },
      "outputs": [],
      "source": [
        "model.embedding.weight"
      ]
    },
    {
      "cell_type": "code",
      "execution_count": null,
      "id": "5c1cbd5c",
      "metadata": {
        "id": "5c1cbd5c",
        "outputId": "7fd11021-f209-43de-aae1-875c0db82f61"
      },
      "outputs": [],
      "source": [
        "pretrained_embedding"
      ]
    },
    {
      "cell_type": "code",
      "execution_count": null,
      "id": "6ea34c9b",
      "metadata": {
        "id": "6ea34c9b"
      },
      "outputs": [],
      "source": [
        "model.embedding.weight.data = pretrained_embedding"
      ]
    },
    {
      "cell_type": "code",
      "execution_count": null,
      "id": "1332d9a6",
      "metadata": {
        "id": "1332d9a6",
        "outputId": "72c7db7e-0e1a-4c05-d83d-1fc7043eeb8b"
      },
      "outputs": [],
      "source": [
        "model.embedding.weight"
      ]
    },
    {
      "cell_type": "code",
      "execution_count": null,
      "id": "4fcb95e0",
      "metadata": {
        "id": "4fcb95e0"
      },
      "outputs": [],
      "source": [
        "optimizer = optim.Adam(model.parameters())"
      ]
    },
    {
      "cell_type": "code",
      "execution_count": null,
      "id": "f8829cd4",
      "metadata": {
        "id": "f8829cd4"
      },
      "outputs": [],
      "source": [
        "criterion = nn.CrossEntropyLoss()"
      ]
    },
    {
      "cell_type": "code",
      "execution_count": null,
      "id": "7ed273e0",
      "metadata": {
        "id": "7ed273e0",
        "outputId": "6d497e7d-40e9-4a49-892e-a691ca138e9d"
      },
      "outputs": [],
      "source": [
        "device = torch.device(\"cuda\" if torch.cuda.is_available() else \"cpu\")\n",
        "\n",
        "device"
      ]
    },
    {
      "cell_type": "code",
      "execution_count": null,
      "id": "3cdaf3b3",
      "metadata": {
        "id": "3cdaf3b3"
      },
      "outputs": [],
      "source": [
        "model = model.to(device)\n",
        "criterion = criterion.to(device)"
      ]
    },
    {
      "cell_type": "code",
      "execution_count": null,
      "id": "729aa9c8",
      "metadata": {
        "id": "729aa9c8"
      },
      "outputs": [],
      "source": [
        "def train(data_loader, model, criterion, optimizer, device):\n",
        "    model.train()\n",
        "    epoch_losses = []\n",
        "    epoch_accs = []\n",
        "    for batch in tqdm.tqdm(data_loader, desc=\"training...\"):\n",
        "        ids = batch[\"ids\"].to(device)\n",
        "        label = batch[\"label\"].to(device)\n",
        "        prediction = model(ids)\n",
        "        loss = criterion(prediction, label)\n",
        "        accuracy = get_accuracy(prediction, label)\n",
        "        optimizer.zero_grad()\n",
        "        loss.backward()\n",
        "        optimizer.step()\n",
        "        epoch_losses.append(loss.item())\n",
        "        epoch_accs.append(accuracy.item())\n",
        "    return np.mean(epoch_losses), np.mean(epoch_accs)"
      ]
    },
    {
      "cell_type": "code",
      "execution_count": null,
      "id": "e0a80c30",
      "metadata": {
        "id": "e0a80c30"
      },
      "outputs": [],
      "source": [
        "def evaluate(data_loader, model, criterion, device):\n",
        "    model.eval()\n",
        "    epoch_losses = []\n",
        "    epoch_accs = []\n",
        "    with torch.no_grad():\n",
        "        for batch in tqdm.tqdm(data_loader, desc=\"evaluating...\"):\n",
        "            ids = batch[\"ids\"].to(device)\n",
        "            label = batch[\"label\"].to(device)\n",
        "            prediction = model(ids)\n",
        "            loss = criterion(prediction, label)\n",
        "            accuracy = get_accuracy(prediction, label)\n",
        "            epoch_losses.append(loss.item())\n",
        "            epoch_accs.append(accuracy.item())\n",
        "    return np.mean(epoch_losses), np.mean(epoch_accs)"
      ]
    },
    {
      "cell_type": "code",
      "execution_count": null,
      "id": "703aa1e1",
      "metadata": {
        "id": "703aa1e1"
      },
      "outputs": [],
      "source": [
        "def get_accuracy(prediction, label):\n",
        "    batch_size, _ = prediction.shape\n",
        "    predicted_classes = prediction.argmax(dim=-1)\n",
        "    correct_predictions = predicted_classes.eq(label).sum()\n",
        "    accuracy = correct_predictions / batch_size\n",
        "    return accuracy"
      ]
    },
    {
      "cell_type": "code",
      "execution_count": null,
      "id": "31343f1b",
      "metadata": {
        "id": "31343f1b",
        "outputId": "85d2d5e1-b9c8-46df-ea9b-812aa55ec23a"
      },
      "outputs": [],
      "source": [
        "n_epochs = 10\n",
        "best_valid_loss = float(\"inf\")\n",
        "\n",
        "metrics = collections.defaultdict(list)\n",
        "\n",
        "for epoch in range(n_epochs):\n",
        "    train_loss, train_acc = train(\n",
        "        train_data_loader, model, criterion, optimizer, device\n",
        "    )\n",
        "    valid_loss, valid_acc = evaluate(\n",
        "        valid_data_loader, model, criterion, device)\n",
        "    metrics[\"train_losses\"].append(train_loss)\n",
        "    metrics[\"train_accs\"].append(train_acc)\n",
        "    metrics[\"valid_losses\"].append(valid_loss)\n",
        "    metrics[\"valid_accs\"].append(valid_acc)\n",
        "    if valid_loss < best_valid_loss:\n",
        "        best_valid_loss = valid_loss\n",
        "        torch.save(model.state_dict(), \"nbow.pt\")\n",
        "    print(f\"epoch: {epoch}\")\n",
        "    print(f\"train_loss: {train_loss:.3f}, train_acc: {train_acc:.3f}\")\n",
        "    print(f\"valid_loss: {valid_loss:.3f}, valid_acc: {valid_acc:.3f}\")"
      ]
    },
    {
      "cell_type": "code",
      "execution_count": null,
      "id": "2d791c70",
      "metadata": {
        "id": "2d791c70",
        "outputId": "2ee0783c-df36-416a-bbd0-4b88d906f1fc"
      },
      "outputs": [],
      "source": [
        "fig = plt.figure(figsize=(10, 6))\n",
        "ax = fig.add_subplot(1, 1, 1)\n",
        "ax.plot(metrics[\"train_losses\"], label=\"train loss\")\n",
        "ax.plot(metrics[\"valid_losses\"], label=\"valid loss\")\n",
        "ax.set_xlabel(\"epoch\")\n",
        "ax.set_ylabel(\"loss\")\n",
        "ax.set_xticks(range(n_epochs))\n",
        "ax.legend()\n",
        "ax.grid()"
      ]
    },
    {
      "cell_type": "code",
      "execution_count": null,
      "id": "bc422190",
      "metadata": {
        "id": "bc422190",
        "outputId": "2ec40e5d-bacb-4c0e-d5db-35e2bd0ed0e5"
      },
      "outputs": [],
      "source": [
        "fig = plt.figure(figsize=(10, 6))\n",
        "ax = fig.add_subplot(1, 1, 1)\n",
        "ax.plot(metrics[\"train_accs\"], label=\"train accuracy\")\n",
        "ax.plot(metrics[\"valid_accs\"], label=\"valid accuracy\")\n",
        "ax.set_xlabel(\"epoch\")\n",
        "ax.set_ylabel(\"loss\")\n",
        "ax.set_xticks(range(n_epochs))\n",
        "ax.legend()\n",
        "ax.grid()"
      ]
    },
    {
      "cell_type": "code",
      "execution_count": null,
      "id": "cac26e8e",
      "metadata": {
        "id": "cac26e8e",
        "outputId": "f14e6acb-03d2-4c68-8940-e3db85da967c"
      },
      "outputs": [],
      "source": [
        "model.load_state_dict(torch.load(\"nbow.pt\"))\n",
        "\n",
        "test_loss, test_acc = evaluate(test_data_loader, model, criterion, device)"
      ]
    },
    {
      "cell_type": "code",
      "execution_count": null,
      "id": "1d741147",
      "metadata": {
        "id": "1d741147",
        "outputId": "b818241e-7595-4623-8c38-9620c6d118ff"
      },
      "outputs": [],
      "source": [
        "print(f\"test_loss: {test_loss:.3f}, test_acc: {test_acc:.3f}\")"
      ]
    },
    {
      "cell_type": "code",
      "execution_count": null,
      "id": "b22e040a",
      "metadata": {
        "id": "b22e040a"
      },
      "outputs": [],
      "source": [
        "def predict_sentiment(text, model, tokenizer, vocab, device):\n",
        "    tokens = tokenizer(text)\n",
        "    ids = vocab.lookup_indices(tokens)\n",
        "    tensor = torch.LongTensor(ids).unsqueeze(dim=0).to(device)\n",
        "    prediction = model(tensor).squeeze(dim=0)\n",
        "    probability = torch.softmax(prediction, dim=-1)\n",
        "    predicted_class = prediction.argmax(dim=-1).item()\n",
        "    predicted_probability = probability[predicted_class].item()\n",
        "    return predicted_class, predicted_probability"
      ]
    },
    {
      "cell_type": "code",
      "execution_count": null,
      "id": "9cfa14eb",
      "metadata": {
        "id": "9cfa14eb",
        "outputId": "3094040d-3cc2-4366-e1e9-3979b0aeaa85"
      },
      "outputs": [],
      "source": [
        "text = \"This film is terrible!\"\n",
        "\n",
        "predict_sentiment(text, model, tokenizer, vocab, device)"
      ]
    },
    {
      "cell_type": "code",
      "execution_count": null,
      "id": "1da60d90",
      "metadata": {
        "id": "1da60d90",
        "outputId": "a7b88b83-6d36-49b2-a50f-3d59888bd1ef"
      },
      "outputs": [],
      "source": [
        "text = \"This film is great!\"\n",
        "\n",
        "predict_sentiment(text, model, tokenizer, vocab, device)"
      ]
    },
    {
      "cell_type": "code",
      "execution_count": null,
      "id": "4bee6190",
      "metadata": {
        "id": "4bee6190",
        "outputId": "df5d9e94-0dae-4c59-96e0-4a416eb18d44"
      },
      "outputs": [],
      "source": [
        "text = \"This film is not terrible, it's great!\"\n",
        "\n",
        "predict_sentiment(text, model, tokenizer, vocab, device)"
      ]
    },
    {
      "cell_type": "code",
      "execution_count": null,
      "id": "e3d55c92",
      "metadata": {
        "id": "e3d55c92",
        "outputId": "0fd72da8-20bf-43c7-a9ab-35d79b035b37"
      },
      "outputs": [],
      "source": [
        "text = \"This film is not great, it's terrible!\"\n",
        "\n",
        "predict_sentiment(text, model, tokenizer, vocab, device)"
      ]
    }
  ],
  "metadata": {
    "colab": {
      "provenance": []
    },
    "kernelspec": {
      "display_name": "Python 3 (ipykernel)",
      "language": "python",
      "name": "python3"
    },
    "language_info": {
      "codemirror_mode": {
        "name": "ipython",
        "version": 3
      },
      "file_extension": ".py",
      "mimetype": "text/x-python",
      "name": "python",
      "nbconvert_exporter": "python",
      "pygments_lexer": "ipython3",
      "version": "3.9.17"
    }
  },
  "nbformat": 4,
  "nbformat_minor": 5
}
